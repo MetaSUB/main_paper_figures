{
 "cells": [
  {
   "cell_type": "code",
   "execution_count": 1,
   "metadata": {},
   "outputs": [
    {
     "name": "stderr",
     "output_type": "stream",
     "text": [
      "/home/dcdanko/miniconda3/lib/python3.7/site-packages/sklearn/externals/joblib/__init__.py:15: DeprecationWarning: sklearn.externals.joblib is deprecated in 0.21 and will be removed in 0.23. Please import this functionality directly from joblib, which can be installed with: pip install joblib. If this warning is raised when loading pickled models, you may need to re-serialize those models with scikit-learn 0.21+.\n",
      "  warnings.warn(msg, category=DeprecationWarning)\n"
     ]
    }
   ],
   "source": [
    "%load_ext rpy2.ipython\n",
    "\n",
    "import pandas as pd\n",
    "from metasub_utils.packet_parse import MetaSUBTableFactory\n",
    "from capalyzer.packet_parser.experimental import umap\n",
    "import warnings\n",
    "from os.path import isfile\n",
    "\n",
    "warnings.filterwarnings('ignore')\n",
    "\n",
    "core_tabler = MetaSUBTableFactory.core_factory()\n",
    "\n",
    "\n",
    "from effet_oppos.preprocessing import (\n",
    "    parse_raw_data,\n",
    "    parse_feature,\n",
    "    normalize_data,\n",
    ")\n",
    "from effet_oppos.classification import (\n",
    "    split_data,\n",
    "    get_classifier,\n",
    "    k_fold_crossvalid,\n",
    "    train_model,\n",
    "    predict_with_model,\n",
    "    multi_predict_with_model,\n",
    "    predict_top_classes,\n",
    "    feature_importance,\n",
    ")"
   ]
  },
  {
   "cell_type": "code",
   "execution_count": 53,
   "metadata": {},
   "outputs": [
    {
     "data": {
      "text/plain": [
       "hong_kong        713\n",
       "london           572\n",
       "ilorin           271\n",
       "singapore        186\n",
       "new_york_city    176\n",
       "tokyo            157\n",
       "barcelona        124\n",
       "porto            112\n",
       "fairbanks         97\n",
       "taipei            97\n",
       "kyiv              97\n",
       "zurich            79\n",
       "seoul             79\n",
       "doha              74\n",
       "stockholm         64\n",
       "berlin            52\n",
       "lisbon            51\n",
       "denver            45\n",
       "kuala_lumpur      32\n",
       "sao_paulo         32\n",
       "sendai            29\n",
       "san_francisco     29\n",
       "other_control     28\n",
       "santiago          26\n",
       "offa              25\n",
       "bogota            18\n",
       "minneapolis       17\n",
       "hamilton          16\n",
       "vienna            16\n",
       "sacramento        16\n",
       "hanoi             16\n",
       "paris             16\n",
       "naples            16\n",
       "oslo              16\n",
       "marseille         16\n",
       "sofia             16\n",
       "auckland          15\n",
       "brisbane          15\n",
       "baltimore         13\n",
       "yamaguchi         12\n",
       "Name: city, dtype: int64"
      ]
     },
     "execution_count": 53,
     "metadata": {},
     "output_type": "execute_result"
    }
   ],
   "source": [
    "taxa = core_tabler.taxonomy(normalized=False)\n",
    "cities = core_tabler.metadata.loc[taxa.index, 'city']\n",
    "big_cities = cities.value_counts()\n",
    "\n",
    "big_cities"
   ]
  },
  {
   "cell_type": "code",
   "execution_count": 13,
   "metadata": {},
   "outputs": [
    {
     "name": "stdout",
     "output_type": "stream",
     "text": [
      "(3132, 3686)\n",
      "(3132,)\n"
     ]
    }
   ],
   "source": [
    "core_tabler = MetaSUBTableFactory.core_factory()\n",
    "\n",
    "taxa = core_tabler.taxonomy(normalized=False)\n",
    "cities = core_tabler.metadata.loc[taxa.index, 'city']\n",
    "big_cities = cities.value_counts()\n",
    "big_cities = big_cities[big_cities > 0].index\n",
    "\n",
    "cities = cities[cities.isin(big_cities)]\n",
    "taxa = taxa.loc[cities.index]\n",
    "taxa = taxa[taxa.sum(axis=1) != 0]\n",
    "\n",
    "feature, name_map = pd.factorize(cities)\n",
    "normalized = normalize_data(taxa, method='binary', threshold='0.0001')\n",
    "train_taxa, test_taxa, train_feature, test_feature = split_data(\n",
    "        normalized, feature, test_size=0.1, seed=42\n",
    ")\n",
    "print(train_taxa.shape)\n",
    "print(train_feature.shape)"
   ]
  },
  {
   "cell_type": "code",
   "execution_count": 14,
   "metadata": {},
   "outputs": [],
   "source": [
    "model = train_model(\n",
    "            train_taxa, train_feature, method='linear_svc',\n",
    "            n_estimators=20, n_neighbours=21, n_components=10, seed=None\n",
    ")"
   ]
  },
  {
   "cell_type": "code",
   "execution_count": 15,
   "metadata": {},
   "outputs": [
    {
     "name": "stdout",
     "output_type": "stream",
     "text": [
      "0.9111747851002865\n",
      "0.9111747851002865\n",
      "0.9111747851002865\n"
     ]
    }
   ],
   "source": [
    "from sklearn.metrics import (\n",
    "    precision_score,\n",
    "    recall_score,\n",
    "    confusion_matrix,\n",
    "    classification_report,\n",
    "    accuracy_score,\n",
    ")\n",
    "\n",
    "predictions = predict_with_model(model, test_taxa).round()\n",
    "conf_matrix = pd.DataFrame(confusion_matrix(test_feature, predictions))\n",
    "print(accuracy_score(test_feature, predictions))\n",
    "print(precision_score(test_feature, predictions, average=\"micro\"))\n",
    "print(recall_score(test_feature, predictions, average=\"micro\"))"
   ]
  },
  {
   "cell_type": "code",
   "execution_count": 16,
   "metadata": {},
   "outputs": [
    {
     "data": {
      "image/png": "[encoded data removed]"
     },
     "metadata": {},
     "output_type": "display_data"
    }
   ],
   "source": [
    "%%R -i conf_matrix\n",
    "\n",
    "heatmap(as.matrix(conf_matrix), Rowv=NA, Colv=NA)"
   ]
  },
  {
   "cell_type": "code",
   "execution_count": 63,
   "metadata": {},
   "outputs": [
    {
     "data": {
      "text/html": [
       "<div>\n",
       "<style scoped>\n",
       "    .dataframe tbody tr th:only-of-type {\n",
       "        vertical-align: middle;\n",
       "    }\n",
       "\n",
       "    .dataframe tbody tr th {\n",
       "        vertical-align: top;\n",
       "    }\n",
       "\n",
       "    .dataframe thead th {\n",
       "        text-align: right;\n",
       "    }\n",
       "</style>\n",
       "<table border=\"1\" class=\"dataframe\">\n",
       "  <thead>\n",
       "    <tr style=\"text-align: right;\">\n",
       "      <th></th>\n",
       "      <th>0</th>\n",
       "      <th>1</th>\n",
       "      <th>2</th>\n",
       "      <th>3</th>\n",
       "      <th>4</th>\n",
       "    </tr>\n",
       "  </thead>\n",
       "  <tbody>\n",
       "    <tr>\n",
       "      <th>0</th>\n",
       "      <td>107</td>\n",
       "      <td>1</td>\n",
       "      <td>0</td>\n",
       "      <td>0</td>\n",
       "      <td>1</td>\n",
       "    </tr>\n",
       "    <tr>\n",
       "      <th>1</th>\n",
       "      <td>0</td>\n",
       "      <td>48</td>\n",
       "      <td>0</td>\n",
       "      <td>2</td>\n",
       "      <td>0</td>\n",
       "    </tr>\n",
       "    <tr>\n",
       "      <th>2</th>\n",
       "      <td>0</td>\n",
       "      <td>1</td>\n",
       "      <td>130</td>\n",
       "      <td>0</td>\n",
       "      <td>0</td>\n",
       "    </tr>\n",
       "    <tr>\n",
       "      <th>3</th>\n",
       "      <td>0</td>\n",
       "      <td>0</td>\n",
       "      <td>0</td>\n",
       "      <td>5</td>\n",
       "      <td>0</td>\n",
       "    </tr>\n",
       "    <tr>\n",
       "      <th>4</th>\n",
       "      <td>1</td>\n",
       "      <td>0</td>\n",
       "      <td>0</td>\n",
       "      <td>0</td>\n",
       "      <td>17</td>\n",
       "    </tr>\n",
       "  </tbody>\n",
       "</table>\n",
       "</div>"
      ],
      "text/plain": [
       "     0   1    2  3   4\n",
       "0  107   1    0  0   1\n",
       "1    0  48    0  2   0\n",
       "2    0   1  130  0   0\n",
       "3    0   0    0  5   0\n",
       "4    1   0    0  0  17"
      ]
     },
     "execution_count": 63,
     "metadata": {},
     "output_type": "execute_result"
    }
   ],
   "source": [
    "foo = conf_matrix.iloc[0:5, 0:5]\n",
    "foo"
   ]
  },
  {
   "cell_type": "code",
   "execution_count": 72,
   "metadata": {},
   "outputs": [
    {
     "data": {
      "text/plain": [
       "array([0.97272727, 0.92307692, 0.90909091, 0.55555556, 0.80952381,\n",
       "       0.84615385, 0.83333333, 0.96153846, 0.63043478, 0.82857143,\n",
       "       0.6       , 0.625     , 0.54166667, 0.7       , 0.66666667,\n",
       "       0.63636364, 0.66666667, 0.5       , 0.57142857, 0.78378378,\n",
       "       0.66666667, 0.66666667, 0.52941176, 0.66666667, 0.33333333])"
      ]
     },
     "execution_count": 72,
     "metadata": {},
     "output_type": "execute_result"
    }
   ],
   "source": [
    "import numpy as np\n",
    "\n",
    "foo = (conf_matrix / conf_matrix.sum())\n",
    "np.diag(foo)"
   ]
  },
  {
   "cell_type": "code",
   "execution_count": null,
   "metadata": {},
   "outputs": [],
   "source": []
  }
 ],
 "metadata": {
  "kernelspec": {
   "display_name": "Python 3",
   "language": "python",
   "name": "python3"
  },
  "language_info": {
   "codemirror_mode": {
    "name": "ipython",
    "version": 3
   },
   "file_extension": ".py",
   "mimetype": "text/x-python",
   "name": "python",
   "nbconvert_exporter": "python",
   "pygments_lexer": "ipython3",
   "version": "3.7.1"
  }
 },
 "nbformat": 4,
 "nbformat_minor": 2
}
